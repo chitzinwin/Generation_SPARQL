{
  "cells": [
    {
      "cell_type": "markdown",
      "metadata": {
        "colab_type": "text",
        "id": "view-in-github"
      },
      "source": [
        "<a href=\"https://colab.research.google.com/github/chitzinwin/Generation_SPARQL/blob/discovery/Overview.ipynb\" target=\"_parent\"><img src=\"https://colab.research.google.com/assets/colab-badge.svg\" alt=\"Open In Colab\"/></a>"
      ]
    },
    {
      "cell_type": "code",
      "execution_count": null,
      "metadata": {},
      "outputs": [],
      "source": [
        "!git clone -b discovery --single-branch https://github.com/chitzinwin/Generation_SPARQL.git"
      ]
    },
    {
      "cell_type": "code",
      "execution_count": null,
      "metadata": {
        "id": "zbWQTLmG8Xj3"
      },
      "outputs": [],
      "source": [
        "!nvidia-smi\n",
        "!nvidia-smi --query-gpu=name --format=csv,noheader"
      ]
    },
    {
      "cell_type": "code",
      "execution_count": 27,
      "metadata": {},
      "outputs": [],
      "source": [
        "%%capture\n",
        "%pip install accelerate peft transformers datasets bitsandbytes sentencepiece "
      ]
    },
    {
      "cell_type": "code",
      "execution_count": 14,
      "metadata": {},
      "outputs": [],
      "source": [
        "from transformers import AutoModelForCausalLM, AutoTokenizer, BitsAndBytesConfig\n",
        "from peft import get_peft_model, LoraConfig, AutoPeftModelForCausalLM\n",
        "import torch"
      ]
    },
    {
      "cell_type": "code",
      "execution_count": 36,
      "metadata": {},
      "outputs": [],
      "source": [
        "bnb_config = BitsAndBytesConfig(\n",
        "    load_in_4bit=True,\n",
        "    bnb_4bit_use_double_quant=True,\n",
        "    bnb_4bit_quant_type=\"nf4\",\n",
        "    )"
      ]
    },
    {
      "cell_type": "code",
      "execution_count": 37,
      "metadata": {},
      "outputs": [
        {
          "name": "stderr",
          "output_type": "stream",
          "text": [
            "Loading checkpoint shards:  50%|█████     | 1/2 [07:07<07:07, 427.22s/it]"
          ]
        }
      ],
      "source": [
        "\n",
        "model = AutoPeftModelForCausalLM.from_pretrained(\n",
        "    \"./assets/models/wikidata/checkpoint-13500\",\n",
        "    device_map=\"cuda:0\",\n",
        "    cache_dir=\"/mnt/d/huggyface\",\n",
        "    offload_folder=\"/mnt/d/huggyface/offload\",\n",
        "    low_cpu_mem_usage=True,\n",
        "    quantization_config=bnb_config\n",
        ")"
      ]
    },
    {
      "cell_type": "code",
      "execution_count": null,
      "metadata": {},
      "outputs": [],
      "source": [
        "from transformers import LlamaTokenizer\n",
        "tokenizer = LlamaTokenizer.from_pretrained(\"./assets/models/wikidata/checkpoint-13500\")\n",
        "tokenizer.add_special_tokens({'pad_token': '[PAD]'})\n",
        "model.resize_token_embeddings(len(tokenizer))\n"
      ]
    },
    {
      "cell_type": "code",
      "execution_count": null,
      "metadata": {},
      "outputs": [],
      "source": [
        "from text2sparql.format import truncate_batch, extract_first_sparql, load_data_from_file, generate_prompt, prompt_question, prompt_question_contrastivev1, prompt_append_BERN2EL,prompt_append_SpacyWikidataEL,extract_first_sparql_contrastive,extract_first_sparql_bgee\n",
        "prompt = prompt_question(\"How many professions were created in 1789?\")\n",
        "inputs = tokenizer(f'<s>[INST] {prompt} [/INST]',return_tensors=\"pt\",  padding=True, truncation=True)\n",
        "\n",
        "with torch.no_grad():\n",
        "      outputs = model.generate(input_ids=inputs[\"input_ids\"].to(\"cuda\"), max_new_tokens=512, do_sample=False)\n",
        "      print(tokenizer.batch_decode(outputs.detach().cpu().numpy(), skip_special_tokens=True)[0])"
      ]
    }
  ],
  "metadata": {
    "colab": {
      "authorship_tag": "ABX9TyNibTtdNUiv5VEBcneZqGdP",
      "include_colab_link": true,
      "provenance": []
    },
    "kernelspec": {
      "display_name": "Python 3",
      "name": "python3"
    },
    "language_info": {
      "codemirror_mode": {
        "name": "ipython",
        "version": 3
      },
      "file_extension": ".py",
      "mimetype": "text/x-python",
      "name": "python",
      "nbconvert_exporter": "python",
      "pygments_lexer": "ipython3",
      "version": "3.11.9"
    }
  },
  "nbformat": 4,
  "nbformat_minor": 0
}
